{
 "cells": [
  {
   "cell_type": "code",
   "execution_count": 34,
   "metadata": {},
   "outputs": [],
   "source": [
    "import cv2\n",
    "from matplotlib import pyplot as plt\n",
    "import numpy as np\n",
    "from matplotlib.pyplot import figure\n",
    "import time\n",
    "import random\n",
    "import pandas as pd\n",
    "\n",
    "from scipy import signal\n",
    "from scipy import misc\n",
    "from scipy.spatial import distance\n",
    "\n",
    "from ipywidgets import Image\n",
    "from ipycanvas import Canvas"
   ]
  },
  {
   "cell_type": "code",
   "execution_count": 2,
   "metadata": {},
   "outputs": [],
   "source": [
    "def random_color():\n",
    "    levels = range(32,256,32)\n",
    "    return tuple(random.choice(levels) for _ in range(3))"
   ]
  },
  {
   "cell_type": "code",
   "execution_count": 3,
   "metadata": {},
   "outputs": [],
   "source": [
    "img = []\n",
    "img4 = []\n",
    "img_orig = []\n",
    "#canvas = Canvas()"
   ]
  },
  {
   "cell_type": "code",
   "execution_count": 4,
   "metadata": {},
   "outputs": [],
   "source": [
    "img = cv2.imread(\"map.png\", cv2.IMREAD_GRAYSCALE);\n",
    "backtorgb = cv2.cvtColor(img,cv2.COLOR_GRAY2RGB);\n",
    "img = backtorgb.dot([0.33,0.33,0.33])\n",
    "\n",
    "(my,mx)=img.shape\n",
    "img[0,:]=255\n",
    "img[:,0]=255\n",
    "img[my-1,:]=255\n",
    "img[:,mx-1]=255\n",
    "\n",
    "img_orig = img.copy()\n",
    "\n",
    "#canvas = Canvas(width=mx, height=my)\n",
    "#image_data = np.stack((backtorgb[:,:,0],backtorgb[:,:,1],backtorgb[:,:,2]), axis=2)\n",
    "#canvas.put_image_data(image_data,0,0)"
   ]
  },
  {
   "cell_type": "code",
   "execution_count": 5,
   "metadata": {},
   "outputs": [],
   "source": [
    "#canvas\n",
    "difftmp = np.array([[1,1,1],[1,0,1],[1,1,1]])\n",
    "kernel = np.ones((3,3),np.uint8)\n",
    "#img4 = np.empty_like(img)*0\n",
    "img4 = np.zeros_like(img)*0\n",
    "clas = True\n",
    "while clas == True:\n",
    "    img2 = cv2.dilate(img,kernel,iterations = 1)\n",
    "    img3 = img2-img\n",
    "    if np.sum(img3)==0:\n",
    "        break\n",
    "        \n",
    "    img4 = img4+(signal.convolve2d(img3,difftmp, boundary='symm', mode='same')/255>4)*255\n",
    "    \n",
    "    img3 = img2-img\n",
    "    image_data = np.stack((img3+img4,img3+img_orig,img3), axis=2)\n",
    "    #canvas.put_image_data(image_data,0,0)\n",
    "    img = img2.copy()\n",
    "image_data = np.stack((img4,img4+img3,img4), axis=2)"
   ]
  },
  {
   "cell_type": "code",
   "execution_count": 6,
   "metadata": {},
   "outputs": [
    {
     "data": {
      "image/png": "[encoded data removed]",
      "text/plain": [
       "<Figure size 960x800 with 1 Axes>"
      ]
     },
     "metadata": {},
     "output_type": "display_data"
    }
   ],
   "source": [
    "dst = image_data.copy()\n",
    "\n",
    "figure(num=None, figsize=(12, 10), dpi=80, facecolor='w', edgecolor='k')\n",
    "plt.imshow(img4, cmap='gray', vmin=0, vmax=255)\n",
    "plt.show()"
   ]
  },
  {
   "cell_type": "code",
   "execution_count": 7,
   "metadata": {
    "scrolled": true
   },
   "outputs": [],
   "source": [
    "im = cv2.imread('one.jpg',0)\n",
    "ret,thresh = cv2.threshold(im,127,255,0)\n",
    "contours, hierarchy = cv2.findContours(thresh, cv2.RETR_LIST, cv2.CHAIN_APPROX_SIMPLE)"
   ]
  },
  {
   "cell_type": "code",
   "execution_count": 8,
   "metadata": {},
   "outputs": [],
   "source": [
    "### Convert OpenCV contours to array of arrays\n",
    "contour_map = []\n",
    "for i in range(len(contours)):\n",
    "    \n",
    "    this_countour = []\n",
    "    \n",
    "    for a in contours[i]:\n",
    "        [x,y]=a[0]\n",
    "        this_countour.append((x,y))\n",
    "    contour_map.append(this_countour)"
   ]
  },
  {
   "cell_type": "code",
   "execution_count": 36,
   "metadata": {},
   "outputs": [
    {
     "name": "stderr",
     "output_type": "stream",
     "text": [
      "/home/mike/anaconda3/lib/python3.7/site-packages/ipykernel_launcher.py:12: RuntimeWarning: divide by zero encountered in int_scalars\n",
      "  if sys.path[0] == '':\n"
     ]
    }
   ],
   "source": [
    "#### Convert lines into array of lines\n",
    "lengths = []\n",
    "for i in range(len(contour_map)):\n",
    "    for a in range(len(contour_map[i])-1):\n",
    "        (sx,sy) = contour_map[i][a]\n",
    "        (ex,ey) = contour_map[i][a+1]\n",
    "        \n",
    "        length = distance.euclidean((sx,sy),(ex,ey))\n",
    "        if sx<ex:\n",
    "            lengths.append([sx,sy,ex,ey,length,(ey-sy)/(ex-sx)])\n",
    "        else:\n",
    "            lengths.append([ex,ey,sx,sy,length,(sy-ey)/(sx-ex)])"
   ]
  },
  {
   "cell_type": "code",
   "execution_count": 38,
   "metadata": {},
   "outputs": [
    {
     "name": "stderr",
     "output_type": "stream",
     "text": [
      "/home/mike/anaconda3/lib/python3.7/site-packages/ipykernel_launcher.py:38: RuntimeWarning: divide by zero encountered in int_scalars\n"
     ]
    }
   ],
   "source": [
    "## combine small lines together\n",
    "nl = []\n",
    "for i in lengths:\n",
    "    [psx1,psy1,pex1,pey1,pl,pg]=i\n",
    "    found=False\n",
    "    for j in lengths:\n",
    "        if i!=j:\n",
    "            [ssx1,ssy1,sex1,sey1,sl,sg]=j\n",
    "            \n",
    "            if distance.euclidean((ssx1,ssy1),(psx1,psy1))<2:\n",
    "                found=True\n",
    "                [x1,x2,y1,y2]=[sex1,sey1,pex1,pey1]\n",
    "                break\n",
    "                \n",
    "            if distance.euclidean((sex1,sey1),(psx1,psy1))<2:\n",
    "                found=True\n",
    "                [x1,x2,y1,y2]=[ssx1,ssy1,pex1,pey1]\n",
    "                break\n",
    "                \n",
    "            if distance.euclidean((ssx1,ssy1),(pex1,pey1))<2:\n",
    "                found=True\n",
    "                [x1,x2,y1,y2]=[sex1,sey1,psx1,psy1]\n",
    "                break\n",
    "                \n",
    "            if distance.euclidean((sex1,sey1),(pex1,pey1))<2:\n",
    "                found=True\n",
    "                [x1,x2,y1,y2]=[ssx1,ssy1,psx1,psy1]\n",
    "                break\n",
    "    \n",
    "    ## no close\n",
    "    if not found:\n",
    "        nl.append(i)\n",
    "    else:\n",
    "        length = distance.euclidean((x1,y1),(x2,y2))\n",
    "        if x1>x2:\n",
    "            nl.append([x2,y2,x1,y1,length,(y2-y1)/(x2-x1)])\n",
    "        else:\n",
    "            nl.append([x1,y1,x2,y2,length,(y1-y2)/(x1-x2)])\n",
    "                \n",
    "            "
   ]
  },
  {
   "cell_type": "code",
   "execution_count": 43,
   "metadata": {},
   "outputs": [
    {
     "data": {
      "text/plain": [
       "1399"
      ]
     },
     "execution_count": 43,
     "metadata": {},
     "output_type": "execute_result"
    }
   ],
   "source": [
    "len(nl)"
   ]
  },
  {
   "cell_type": "code",
   "execution_count": 44,
   "metadata": {},
   "outputs": [
    {
     "data": {
      "text/plain": [
       "1399"
      ]
     },
     "execution_count": 44,
     "metadata": {},
     "output_type": "execute_result"
    }
   ],
   "source": [
    "len(lengths)"
   ]
  },
  {
   "cell_type": "code",
   "execution_count": 9,
   "metadata": {},
   "outputs": [
    {
     "data": {
      "application/vnd.jupyter.widget-view+json": {
       "model_id": "df22818e390e42ec8b4d1a0999b2ef57",
       "version_major": 2,
       "version_minor": 0
      },
      "text/plain": [
       "Canvas(height=400, width=640)"
      ]
     },
     "metadata": {},
     "output_type": "display_data"
    }
   ],
   "source": [
    "canvas2 = Canvas(width=mx, height=my)\n",
    "canvas2"
   ]
  },
  {
   "cell_type": "code",
   "execution_count": null,
   "metadata": {},
   "outputs": [],
   "source": []
  },
  {
   "cell_type": "code",
   "execution_count": 12,
   "metadata": {},
   "outputs": [],
   "source": [
    "#### Remove lines that touch Tracks\n",
    "\n",
    "for i in range(len(contour_map)):\n",
    "    \n",
    "    #cv2.drawContours(backtorgb, contours, i, random_color(), 3)\n",
    "    first = True\n",
    "    colourr = random_color()\n",
    "    for a in contour_map[i]:\n",
    "        (x,y)=a\n",
    "        \n",
    "        #print([x,y],sum(sum(img_orig[y-3:y+3,x-3:x+3])))\n",
    "        minx=max(0,x-3)\n",
    "        miny=max(0,y-3)\n",
    "        maxx=min(mx,x+3)\n",
    "        maxy=min(my,y+3)\n",
    "        if sum(sum(img_orig[miny:maxy,minx:maxx]))<20:\n",
    "            if first==True:\n",
    "                first=False\n",
    "                x1=x\n",
    "                y1=y\n",
    "            else:\n",
    "                cv2.line(backtorgb,(x,y),(x1,y1),colourr,1)\n",
    "                x1=x\n",
    "                y1=y\n",
    "    image_data = np.stack((backtorgb[:,:,0],backtorgb[:,:,1],backtorgb[:,:,2]), axis=2)\n",
    "    canvas2.put_image_data(image_data,0,0)\n",
    "    "
   ]
  },
  {
   "cell_type": "code",
   "execution_count": null,
   "metadata": {},
   "outputs": [],
   "source": []
  }
 ],
 "metadata": {
  "kernelspec": {
   "display_name": "Python 3",
   "language": "python",
   "name": "python3"
  },
  "language_info": {
   "codemirror_mode": {
    "name": "ipython",
    "version": 3
   },
   "file_extension": ".py",
   "mimetype": "text/x-python",
   "name": "python",
   "nbconvert_exporter": "python",
   "pygments_lexer": "ipython3",
   "version": "3.7.4"
  }
 },
 "nbformat": 4,
 "nbformat_minor": 2
}
