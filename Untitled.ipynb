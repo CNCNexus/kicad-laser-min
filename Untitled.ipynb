{
 "cells": [
  {
   "cell_type": "code",
   "execution_count": 1,
   "metadata": {},
   "outputs": [],
   "source": [
    "import cv2\n",
    "from matplotlib import pyplot as plt\n",
    "import numpy as np\n",
    "from matplotlib.pyplot import figure\n",
    "import time\n",
    "import random\n",
    "import pandas as pd\n",
    "\n",
    "from scipy import signal\n",
    "from scipy import misc\n",
    "rom skimage.measure import find_contours, approximate_polygon, subdivide_polygon\n",
    "\n",
    "from ipywidgets import Image\n",
    "from ipycanvas import Canvas"
   ]
  },
  {
   "cell_type": "code",
   "execution_count": 2,
   "metadata": {},
   "outputs": [],
   "source": [
    "lists = [(338, 192), (346, 216), (335, 184), (322, 188), (312, 210), (319, 197), (324, 186), (341, 201), (313, 207), (323, 189), (348, 218), (330, 182), (314, 204), (317, 199), (344, 210), (348, 222), (316, 202), (337, 189), (345, 211), (315, 205), (311, 212), (350, 220), (339, 193), (326, 184), (339, 195), (343, 207), (319, 195), (338, 190), (340, 196), (321, 193), (342, 202), (318, 198), (311, 211), (308, 215), (320, 192), (333, 183), (313, 209), (322, 190), (312, 208), (329, 183), (336, 185), (307, 215), (345, 213), (343, 205), (327, 183), (323, 187), (341, 199), (314, 206), (317, 201), (342, 204), (344, 208), (346, 214), (334, 184), (325, 184), (316, 200), (330, 175), (331, 183), (324, 185), (305, 217), (315, 203), (340, 198), (336, 186), (318, 196), (337, 187), (320, 194), (321, 191)]"
   ]
  },
  {
   "cell_type": "code",
   "execution_count": 3,
   "metadata": {},
   "outputs": [],
   "source": [
    "img = cv2.imread(\"map.png\", cv2.IMREAD_GRAYSCALE);\n"
   ]
  },
  {
   "cell_type": "code",
   "execution_count": 4,
   "metadata": {},
   "outputs": [],
   "source": [
    "def most_frequent(List): \n",
    "    return max(set(List), key = List.count) "
   ]
  },
  {
   "cell_type": "code",
   "execution_count": 50,
   "metadata": {},
   "outputs": [],
   "source": [
    "def get_lines_from_small_contours(asr):\n",
    "        \n",
    "    tasr = asr.copy()\n",
    "    grouped_points=[]\n",
    "    \n",
    "    while len(tasr)>0:\n",
    "        foc_point = tasr[0]\n",
    "        tasr.remove(foc_point)\n",
    "\n",
    "        grad_list=[]\n",
    "        (x,y)=foc_point\n",
    "        for i in tasr:\n",
    "            (x1,y1)=i\n",
    "\n",
    "            if (x!=x1):\n",
    "                grad_list.append(np.arctan(abs((y-y1)/(x-x1))))\n",
    "            else:\n",
    "                grad_list.append(np.pi)\n",
    "\n",
    "        linegrad = most_frequent(grad_list)\n",
    "        lineindex = ([i for i in range(len(grad_list)) if (grad_list[i]>(linegrad-0.00145)) and (grad_list[i]<(linegrad+0.00145))])\n",
    "\n",
    "        found_line_points=[]\n",
    "        for i in lineindex:\n",
    "            fl=tasr[i]\n",
    "            found_line_points.append(fl)\n",
    "            \n",
    "        if len(found_line_points)>3: \n",
    "            minimum = sorted(found_line_points,key=lambda x: x[1], reverse=True)[0]\n",
    "            maximum = sorted(found_line_points,key=lambda x: x[1], reverse=False)[0]\n",
    "            \n",
    "            grouped_points.append([minimum,maximum,len(found_line_points)])\n",
    "\n",
    "        for i in found_line_points:\n",
    "            tasr.remove(i)\n",
    "        \n",
    "\n",
    "    \n",
    "    return grouped_points"
   ]
  },
  {
   "cell_type": "code",
   "execution_count": 51,
   "metadata": {},
   "outputs": [],
   "source": [
    "linecoords = get_lines_from_small_contours(lists)"
   ]
  },
  {
   "cell_type": "code",
   "execution_count": 52,
   "metadata": {},
   "outputs": [
    {
     "name": "stdout",
     "output_type": "stream",
     "text": [
      "[[(348, 222), (336, 186), 11], [(345, 211), (327, 183), 5], [(311, 212), (322, 190), 6], [(313, 209), (330, 175), 5], [(311, 211), (324, 185), 6], [(312, 208), (320, 192), 4], [(344, 208), (337, 187), 6]]\n"
     ]
    }
   ],
   "source": [
    "print(linecoords)"
   ]
  },
  {
   "cell_type": "code",
   "execution_count": 53,
   "metadata": {},
   "outputs": [
    {
     "name": "stderr",
     "output_type": "stream",
     "text": [
      "Clipping input data to the valid range for imshow with RGB data ([0..1] for floats or [0..255] for integers).\n"
     ]
    },
    {
     "name": "stdout",
     "output_type": "stream",
     "text": [
      "[(348, 222), (336, 186), 11]\n",
      "[(345, 211), (327, 183), 5]\n",
      "[(311, 212), (322, 190), 6]\n",
      "[(313, 209), (330, 175), 5]\n",
      "[(311, 211), (324, 185), 6]\n",
      "[(312, 208), (320, 192), 4]\n",
      "[(344, 208), (337, 187), 6]\n"
     ]
    },
    {
     "data": {
      "image/png": "[encoded data removed]",
      "text/plain": [
       "<Figure size 1920x1600 with 1 Axes>"
      ]
     },
     "metadata": {},
     "output_type": "display_data"
    }
   ],
   "source": [
    "img4 = np.zeros([400,640,3])*0.0\n",
    "for li in lists:\n",
    "    cv2.line(img4,li,li,(0,255,0),1)\n",
    "for li in linecoords:\n",
    "    [i,j,k] = li\n",
    "    print(li)\n",
    "    cv2.line(img4,i,j,(255,0,0),1)\n",
    "\n",
    "    \n",
    "figure(num=None, figsize=(24, 20), dpi=80, facecolor='w', edgecolor='k')\n",
    "plt.imshow(img4[150:250,200:]) #\n",
    "plt.show()\n"
   ]
  },
  {
   "cell_type": "code",
   "execution_count": null,
   "metadata": {},
   "outputs": [],
   "source": [
    "appr_s = approximate_polygon(new_s, tolerance=0.8)"
   ]
  }
 ],
 "metadata": {
  "kernelspec": {
   "display_name": "Python 3",
   "language": "python",
   "name": "python3"
  },
  "language_info": {
   "codemirror_mode": {
    "name": "ipython",
    "version": 3
   },
   "file_extension": ".py",
   "mimetype": "text/x-python",
   "name": "python",
   "nbconvert_exporter": "python",
   "pygments_lexer": "ipython3",
   "version": "3.7.4"
  }
 },
 "nbformat": 4,
 "nbformat_minor": 4
}
