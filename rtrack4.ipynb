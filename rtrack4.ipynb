{
 "cells": [
  {
   "cell_type": "code",
   "execution_count": 1,
   "metadata": {},
   "outputs": [],
   "source": [
    "import cv2\n",
    "from matplotlib import pyplot as plt\n",
    "import numpy as np\n",
    "from matplotlib.pyplot import figure\n",
    "import time\n",
    "import random\n",
    "import pandas as pd\n",
    "\n",
    "from scipy import signal\n",
    "\n",
    "from ipywidgets import Image\n",
    "from ipycanvas import Canvas"
   ]
  },
  {
   "cell_type": "code",
   "execution_count": 2,
   "metadata": {},
   "outputs": [],
   "source": [
    "def random_color():\n",
    "    levels = range(32,256,32)\n",
    "    return tuple(random.choice(levels) for _ in range(3))\n",
    "\n",
    "def show_image(img):\n",
    "    figure(num=None, figsize=(12, 10), dpi=80, facecolor='w', edgecolor='k')\n",
    "    plt.imshow(img, cmap='gray', vmin=0, vmax=255)\n",
    "    plt.show()"
   ]
  },
  {
   "cell_type": "code",
   "execution_count": 3,
   "metadata": {},
   "outputs": [],
   "source": [
    "img = []\n",
    "img4 = []\n",
    "img_orig = []"
   ]
  },
  {
   "cell_type": "markdown",
   "metadata": {},
   "source": [
    "### Load image\n",
    "\n",
    "##### Insert white border around image"
   ]
  },
  {
   "cell_type": "code",
   "execution_count": 4,
   "metadata": {},
   "outputs": [],
   "source": [
    "img = cv2.imread(\"map.png\", cv2.IMREAD_GRAYSCALE);\n",
    "backtorgb = cv2.cvtColor(img,cv2.COLOR_GRAY2RGB);\n",
    "img = backtorgb.dot([0.33,0.33,0.33])\n",
    "\n",
    "(my,mx)=img.shape\n",
    "img[0,:]=255\n",
    "img[:,0]=255\n",
    "img[my-1,:]=255\n",
    "img[:,mx-1]=255\n",
    "\n",
    "img_orig = img.copy()\n",
    "\n",
    "image_data = np.stack((backtorgb[:,:,0],backtorgb[:,:,1],backtorgb[:,:,2]), axis=2)"
   ]
  },
  {
   "cell_type": "markdown",
   "metadata": {},
   "source": [
    "### Process Image to find middle point between tracks\n",
    "\n",
    "##### Difference between subsequent dilations"
   ]
  },
  {
   "cell_type": "code",
   "execution_count": 5,
   "metadata": {},
   "outputs": [],
   "source": [
    "difftmp = np.array([[1,1,1],[1,0,1],[1,1,1]])\n",
    "kernel = np.ones((3,3),np.uint8)\n",
    "img4 = np.zeros_like(img)*0\n",
    "clas = True\n",
    "while clas == True:\n",
    "    img2 = cv2.dilate(img,kernel,iterations = 1)\n",
    "    img3 = img2-img\n",
    "    if np.sum(img3)==0:\n",
    "        break\n",
    "    \n",
    "    ### Calculate number of white pixels around this pixel\n",
    "    img4 = img4+(signal.convolve2d(img3,difftmp, boundary='symm', mode='same')/255>4)*255\n",
    "    \n",
    "    image_data = np.stack((img3+img4,img3+img_orig,img3), axis=2)\n",
    "    img = img2.copy()\n",
    "image_data = np.stack((img4,img4+img3,img4), axis=2)"
   ]
  },
  {
   "cell_type": "markdown",
   "metadata": {},
   "source": [
    "### Get point at the border, using a point inside the clipped area, and angle."
   ]
  },
  {
   "cell_type": "code",
   "execution_count": 6,
   "metadata": {},
   "outputs": [],
   "source": [
    "def clip_line(point, angle, img_size):\n",
    "    (x,y) = point\n",
    "    (xx,yy) = img_size\n",
    "        \n",
    "    if angle>180:\n",
    "        rad_angle = np.pi*(270-angle)/180\n",
    "        x1 = 0\n",
    "        y1 = y + x*np.tan(rad_angle)\n",
    "        \n",
    "        if y1>yy:\n",
    "            rad_angle = np.pi*(angle-180)/180\n",
    "            y1 = yy-1\n",
    "            x1 = x-np.tan(rad_angle)*(yy-y)\n",
    "    else:\n",
    "        rad_angle = np.pi*(180-angle)/180\n",
    "        y1 = yy-1\n",
    "        x1 = x + np.tan(rad_angle)*(yy-y)\n",
    "        \n",
    "        if x1>xx:\n",
    "            rad_angle = np.pi*(angle-90)/180\n",
    "            x1 = xx-1\n",
    "            y1 = y + np.tan(rad_angle)*(xx-x)\n",
    "    \n",
    "    return (int(x1),int(y1))"
   ]
  },
  {
   "cell_type": "markdown",
   "metadata": {},
   "source": [
    "### Functions\n",
    "\n",
    "1. **find_first_point**: return first point non-background inside image\n",
    "2. **check_length_of_line**: find length of line \n",
    "3. **check_vals**: find length of line \n",
    "3. **find_line**: using a point do a 360degree scan to discover any lines getting out of the point. "
   ]
  },
  {
   "cell_type": "code",
   "execution_count": 7,
   "metadata": {},
   "outputs": [],
   "source": [
    "def find_first_point(img):\n",
    "    (yy,xx)=img.shape\n",
    "    for y in range(yy):\n",
    "        for x in range(xx):\n",
    "            if img[y,x]:\n",
    "                return (x,y)\n",
    "    return None\n",
    "\n",
    "def check_vals(img,p1,p2,show=False):\n",
    "    \n",
    "    (yy,xx)=img.shape\n",
    "    (x1,y1) = p2\n",
    "    (x0,y0) = p1\n",
    "    \n",
    "    if x0>x1:\n",
    "        (x0,y0) = (x1,y1)\n",
    "        (x1,y1) = p1\n",
    "    \n",
    "    dx = x1 - x0\n",
    "    dy = y1 - y0\n",
    "    D = 2*dy - dx\n",
    "    y = y0\n",
    "    \n",
    "    vals=0\n",
    "    for x in range(x0,x1):\n",
    "        if img[y,x]:\n",
    "            vals=vals+1\n",
    "        else:\n",
    "            return vals\n",
    "    \n",
    "        if D > 0:\n",
    "               y = y + 1\n",
    "               D = D - 2*dx\n",
    "        \n",
    "        D = D + 2*dy\n",
    "    return vals\n",
    "\n",
    "def find_line(img,point):\n",
    "    \n",
    "    radius=20\n",
    "    (yy,xx)=img.shape\n",
    "    (x0,y0)=point\n",
    "    xx=xx-1\n",
    "    yy=yy-1\n",
    "    \n",
    "    (x,y)=point\n",
    "    grp = {}\n",
    "    \n",
    "    for angle in range(90,269):\n",
    "        rad_angle=np.pi*angle/180\n",
    "        x1=x+int(radius*np.sin(rad_angle))\n",
    "        y1=y-int(radius*np.cos(rad_angle))\n",
    "        \n",
    "        if x1<0: ## angle >180\n",
    "            rad_angle=np.pi*(angle-180)/180\n",
    "            x1=0\n",
    "            y1=int(y+x/np.tan(rad_angle))\n",
    "            \n",
    "        if x1>xx:  ## angle <180\n",
    "            rad_angle=np.pi*(180-angle)/180\n",
    "            x1=xx\n",
    "            y1=int(y+(xx-x)/np.tan(rad_angle))\n",
    "                  \n",
    "        if y1>yy:\n",
    "            if angle>180:\n",
    "                rad_angle=np.pi*(angle-180)/180\n",
    "                y1=yy\n",
    "                x1=int(x-(yy-y-1)*np.tan(rad_angle))\n",
    "            else:\n",
    "                rad_angle=np.pi*(180-angle)/180\n",
    "                y1=yy\n",
    "                x1=int(x+(yy-y)*np.tan(rad_angle))\n",
    "        \n",
    "        grp[angle]=check_vals(img,(x,y),(x1,y1), show=False)\n",
    "        \n",
    "    angle_wmax = max(grp, key=grp.get) ## return angle with highest peak\n",
    "    return angle_wmax"
   ]
  },
  {
   "cell_type": "code",
   "execution_count": 8,
   "metadata": {},
   "outputs": [],
   "source": [
    "def check_length_of_line(img,point,angle):\n",
    "    \n",
    "    (yy,xx)=img.shape\n",
    "    (x1,y1) = clip_line(point, angle, (xx,yy))\n",
    "    (x0,y0) = point\n",
    "    \n",
    "    if x0>x1:\n",
    "        (x0,y0) = (x1,y1)\n",
    "        (x1,y1) = point\n",
    "    \n",
    "    dx = x1 - x0\n",
    "    dy = y1 - y0\n",
    "    D = 2*dy - dx\n",
    "    y = y0\n",
    "    \n",
    "    vals=0\n",
    "    for x in range(x0,x1):\n",
    "        if img[y,x]:\n",
    "            vals=vals+1\n",
    "        else:\n",
    "            return (x,y)\n",
    "    \n",
    "        if D > 0:\n",
    "               y = y + 1\n",
    "               D = D - 2*dx\n",
    "        \n",
    "        D = D + 2*dy\n",
    "    return vals"
   ]
  },
  {
   "cell_type": "code",
   "execution_count": 9,
   "metadata": {},
   "outputs": [],
   "source": [
    "img_path = img4.copy()\n",
    "\n",
    "t=0\n",
    "ppline = []\n",
    "p1 =1 \n",
    "while (t<10000) and (p1!=None):\n",
    "    t=t+1\n",
    "    \n",
    "    img_binary = img4!=0\n",
    "    p1 = find_first_point(img_binary)\n",
    "    if p1 != None:\n",
    "        a1 = find_line(img_binary,p1)\n",
    "        p2 = check_length_of_line(img_binary,p1,a1)\n",
    "        cv2.line(img4,p1,p2,(0,0,0))\n",
    "        ppline.append([p1,p2])\n",
    "    "
   ]
  },
  {
   "cell_type": "code",
   "execution_count": 10,
   "metadata": {},
   "outputs": [
    {
     "data": {
      "application/vnd.jupyter.widget-view+json": {
       "model_id": "6b7c2b552921418691814e9aa4b4a6b4",
       "version_major": 2,
       "version_minor": 0
      },
      "text/plain": [
       "Canvas(height=400, width=640)"
      ]
     },
     "metadata": {},
     "output_type": "display_data"
    }
   ],
   "source": [
    "canvas2 = Canvas(width=mx, height=my)\n",
    "canvas2"
   ]
  },
  {
   "cell_type": "code",
   "execution_count": 11,
   "metadata": {},
   "outputs": [
    {
     "data": {
      "application/vnd.jupyter.widget-view+json": {
       "model_id": "6b7c2b552921418691814e9aa4b4a6b4",
       "version_major": 2,
       "version_minor": 0
      },
      "text/plain": [
       "Canvas(height=400, width=640)"
      ]
     },
     "metadata": {},
     "output_type": "display_data"
    }
   ],
   "source": [
    "image_data = np.stack((img4,img4,img4), axis=2).astype(np.uint8)\n",
    "\n",
    "lengths = []\n",
    "for a in ppline:\n",
    "    [(x,y),(x1,y1)]=a\n",
    "    if (((x1-x)**2+(y1-y)**2)**0.5)>2:\n",
    "        cv2.line(image_data,(x,y),(x1,y1),random_color())\n",
    "        canvas2.put_image_data(image_data,0,0)\n",
    "        canvas2\n",
    "        time.sleep(0.5)\n",
    "canvas2"
   ]
  },
  {
   "cell_type": "code",
   "execution_count": 12,
   "metadata": {},
   "outputs": [
    {
     "data": {
      "image/png": "[encoded data removed]",
      "text/plain": [
       "<Figure size 960x800 with 1 Axes>"
      ]
     },
     "metadata": {},
     "output_type": "display_data"
    }
   ],
   "source": [
    "show_image(img_path)"
   ]
  }
 ],
 "metadata": {
  "kernelspec": {
   "display_name": "Python 3",
   "language": "python",
   "name": "python3"
  },
  "language_info": {
   "codemirror_mode": {
    "name": "ipython",
    "version": 3
   },
   "file_extension": ".py",
   "mimetype": "text/x-python",
   "name": "python",
   "nbconvert_exporter": "python",
   "pygments_lexer": "ipython3",
   "version": "3.7.4"
  }
 },
 "nbformat": 4,
 "nbformat_minor": 4
}
