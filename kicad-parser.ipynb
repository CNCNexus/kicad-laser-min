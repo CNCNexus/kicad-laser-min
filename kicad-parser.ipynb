{
 "cells": [
  {
   "cell_type": "code",
   "execution_count": 1,
   "metadata": {},
   "outputs": [],
   "source": [
    "import pandas as pd\n",
    "import re\n",
    "import numpy as np\n",
    "import cv2\n",
    "from matplotlib import pyplot as plt\n",
    "from matplotlib.pyplot import figure"
   ]
  },
  {
   "cell_type": "code",
   "execution_count": 2,
   "metadata": {},
   "outputs": [],
   "source": [
    "df = pd.DataFrame()"
   ]
  },
  {
   "cell_type": "code",
   "execution_count": 3,
   "metadata": {},
   "outputs": [],
   "source": [
    "# Using readline() \n",
    "file1 = open('simplez80-mobo.kicad_pcb', 'r') \n",
    "count = 0\n",
    "line = file1.readline()\n",
    "bad_chars = [';', ':', '!', \"*\"] \n",
    "\n",
    "while line: \n",
    "    line = file1.readline() \n",
    "  \n",
    "    if \"segment\" in line:\n",
    "        line = line.rstrip()\n",
    "        line = re.sub(\"\\)\", \"\", line)\n",
    "        #print(line)\n",
    "        parse = line.split(\"(\")\n",
    "        \n",
    "        for i in parse:\n",
    "            if i.startswith(\"start\"):\n",
    "                coords = i.split(\" \")\n",
    "                startx=float(coords[1])\n",
    "                starty=float(coords[2])\n",
    "                \n",
    "            if i.startswith(\"end\"):\n",
    "                coords = i.split(\" \")\n",
    "                endx=float(coords[1])\n",
    "                endy=float(coords[2])\n",
    "                \n",
    "            if i.startswith(\"width\"):\n",
    "                coords = i.split(\" \")\n",
    "                width=float(coords[1])\n",
    "                \n",
    "            if i.startswith(\"layer\"):\n",
    "                coords = i.split(\" \")\n",
    "                pdrow = pd.DataFrame({\"startx\":startx,\"starty\":starty,\"endx\":endx,\"endy\":endy,\"width\":width,\"layer\":coords[1]}, index=[0]) \n",
    "                df = df.append(pdrow)\n",
    "  \n",
    "file1.close() "
   ]
  },
  {
   "cell_type": "code",
   "execution_count": 4,
   "metadata": {},
   "outputs": [
    {
     "name": "stdout",
     "output_type": "stream",
     "text": [
      "Board: 4629 x 5594 pixels\n"
     ]
    }
   ],
   "source": [
    "pxmm = 50 ### 300DPI = 12pixels per mm\n",
    "\n",
    "boardminx = min(min(df.startx),min(df.endx))-10\n",
    "boardmaxx = max(max(df.startx),max(df.endx))+10\n",
    "\n",
    "boardminy = min(min(df.starty),min(df.endy))-10\n",
    "boardmaxy = max(max(df.starty),max(df.endy))+10\n",
    "\n",
    "brd_width = int((boardmaxx-boardminx) * pxmm)\n",
    "brd_height = int((boardmaxy-boardminy) * pxmm) \n",
    "\n",
    "print(\"Board:\", brd_width,\"x\",brd_height, \"pixels\")"
   ]
  },
  {
   "cell_type": "code",
   "execution_count": 5,
   "metadata": {},
   "outputs": [],
   "source": [
    "df['dsx'] = ((df.startx-boardminx)*pxmm).astype('int32', copy=False)\n",
    "df['dex'] = ((df.endx-boardminx)*pxmm).astype('int32', copy=False)\n",
    "df['dsy'] = ((df.starty-boardminy)*pxmm).astype('int32', copy=False)\n",
    "df['dey'] = ((df.endy-boardminy)*pxmm).astype('int32', copy=False)\n",
    "df['dwi'] = (df.width*pxmm).astype('int32', copy=False)\n"
   ]
  },
  {
   "cell_type": "code",
   "execution_count": 6,
   "metadata": {},
   "outputs": [],
   "source": [
    "blank_image = np.zeros((brd_height,brd_width,3), np.uint8)"
   ]
  },
  {
   "cell_type": "code",
   "execution_count": 7,
   "metadata": {},
   "outputs": [
    {
     "data": {
      "text/plain": [
       "True"
      ]
     },
     "execution_count": 7,
     "metadata": {},
     "output_type": "execute_result"
    }
   ],
   "source": [
    "for index, row in df[df['layer']=='B.Cu'].iterrows():\n",
    "    blank_image = cv2.line(blank_image, \n",
    "                           (row['dsx'],row['dsy']), \n",
    "                           (row['dex'],row['dey']), \n",
    "                           (255,255,255), \n",
    "                           row['dwi'])\n",
    "cv2.imwrite('map.png',blank_image)\n"
   ]
  },
  {
   "cell_type": "code",
   "execution_count": 8,
   "metadata": {},
   "outputs": [
    {
     "data": {
      "image/png": "[encoded data removed]",
      "text/plain": [
       "<Figure size 320x240 with 1 Axes>"
      ]
     },
     "metadata": {},
     "output_type": "display_data"
    }
   ],
   "source": [
    "figure(num=None, figsize=(4, 3), dpi=80, facecolor='w', edgecolor='k')\n",
    "plt.imshow(blank_image)\n",
    "plt.show()"
   ]
  },
  {
   "cell_type": "code",
   "execution_count": 9,
   "metadata": {},
   "outputs": [
    {
     "data": {
      "image/png": "[encoded data removed]",
      "text/plain": [
       "<Figure size 432x288 with 1 Axes>"
      ]
     },
     "metadata": {
      "needs_background": "light"
     },
     "output_type": "display_data"
    }
   ],
   "source": [
    "bw = np.dot(blank_image[...,:3], [0.2989, 0.5870, 0.1140])\n",
    "(my,mx) = bw.shape\n",
    "\n",
    "for i in range(my):\n",
    "    bw[i,0]=255\n",
    "    bw[i,mx-1]=255\n",
    "\n",
    "for i in range(mx):\n",
    "    bw[0,i]=255\n",
    "    bw[my-1,i]=255\n",
    "    \n",
    "bw[my-1,]=255\n",
    "bw[:,mx-1]=255\n",
    "\n",
    "plt.imshow(bw, cmap=plt.get_cmap('gray'), vmin=0, vmax=1)\n",
    "plt.show()"
   ]
  },
  {
   "cell_type": "code",
   "execution_count": null,
   "metadata": {},
   "outputs": [],
   "source": []
  }
 ],
 "metadata": {
  "kernelspec": {
   "display_name": "Python 3",
   "language": "python",
   "name": "python3"
  },
  "language_info": {
   "codemirror_mode": {
    "name": "ipython",
    "version": 3
   },
   "file_extension": ".py",
   "mimetype": "text/x-python",
   "name": "python",
   "nbconvert_exporter": "python",
   "pygments_lexer": "ipython3",
   "version": "3.7.4"
  }
 },
 "nbformat": 4,
 "nbformat_minor": 4
}
