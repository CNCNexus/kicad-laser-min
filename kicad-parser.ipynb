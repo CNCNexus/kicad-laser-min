{
 "cells": [
  {
   "cell_type": "code",
   "execution_count": 1,
   "metadata": {},
   "outputs": [],
   "source": [
    "import pandas as pd\n",
    "import re\n",
    "import numpy as np\n",
    "import cv2\n",
    "from matplotlib import pyplot as plt\n",
    "from matplotlib.pyplot import figure\n",
    "import math\n"
   ]
  },
  {
   "cell_type": "code",
   "execution_count": 2,
   "metadata": {},
   "outputs": [],
   "source": [
    "pxmm = 30 ### 300DPI = 12pixels per mm"
   ]
  },
  {
   "cell_type": "code",
   "execution_count": 3,
   "metadata": {},
   "outputs": [],
   "source": [
    "df = pd.DataFrame()\n",
    "dfpd = pd.DataFrame()"
   ]
  },
  {
   "cell_type": "markdown",
   "metadata": {},
   "source": [
    "### Read Tracks"
   ]
  },
  {
   "cell_type": "code",
   "execution_count": 4,
   "metadata": {},
   "outputs": [],
   "source": [
    "# Using readline() \n",
    "file1 = open('simplez80-mobo.kicad_pcb', 'r') \n",
    "count = 0\n",
    "line = file1.readline()\n",
    "bad_chars = [';', ':', '!', \"*\"] \n",
    "\n",
    "while line: \n",
    "    line = file1.readline() \n",
    "  \n",
    "    if \"segment\" in line:\n",
    "        line = line.rstrip()\n",
    "        line = re.sub(\"\\)\", \"\", line)\n",
    "        #print(line)\n",
    "        parse = line.split(\"(\")\n",
    "        \n",
    "        for i in parse:\n",
    "            if i.startswith(\"start\"):\n",
    "                coords = i.split(\" \")\n",
    "                startx=float(coords[1])\n",
    "                starty=float(coords[2])\n",
    "                \n",
    "            if i.startswith(\"end\"):\n",
    "                coords = i.split(\" \")\n",
    "                endx=float(coords[1])\n",
    "                endy=float(coords[2])\n",
    "                \n",
    "            if i.startswith(\"width\"):\n",
    "                coords = i.split(\" \")\n",
    "                width=float(coords[1])\n",
    "                \n",
    "            if i.startswith(\"layer\"):\n",
    "                coords = i.split(\" \")\n",
    "                pdrow = pd.DataFrame({\"startx\":startx,\"starty\":starty,\"endx\":endx,\"endy\":endy,\"width\":width,\"layer\":coords[1]}, index=[0]) \n",
    "                df = df.append(pdrow)\n",
    "  \n",
    "file1.close() "
   ]
  },
  {
   "cell_type": "markdown",
   "metadata": {},
   "source": [
    "### Read Pads and Vias"
   ]
  },
  {
   "cell_type": "code",
   "execution_count": 5,
   "metadata": {},
   "outputs": [],
   "source": [
    "# Using readline() \n",
    "file1 = open('simplez80-mobo.kicad_pcb', 'r') \n",
    "count = 0\n",
    "line = file1.readline()\n",
    "bad_chars = [';', ':', '!', \"*\"] \n",
    "\n",
    "while line: \n",
    "    line = file1.readline()\n",
    "    \n",
    "    if (\"(at\" in line) and (line.count('(')==1) :\n",
    "        line = line.rstrip()\n",
    "        line = re.sub(\"\\)\", \"\", line)\n",
    "        parse = line.split(\" \")\n",
    "        xx=float(parse[5])\n",
    "        yy=float(parse[6])\n",
    "        if len(parse)>7:\n",
    "            angle = (360-float(parse[7]))*math.pi/180\n",
    "        else:\n",
    "            angle = 0\n",
    "            \n",
    "    if \"via\" in line:\n",
    "        line = line.rstrip()\n",
    "        line = re.sub(\"\\)\", \"\", line)\n",
    "        parse = line.split(\"(\")\n",
    "        padtype = \"circle\"\n",
    "        \n",
    "        for i in parse:\n",
    "            if i.startswith(\"at\"):\n",
    "                coords = i.split(\" \")\n",
    "                centrex = float(coords[1])\n",
    "                centrey = float(coords[2])\n",
    "            \n",
    "            if i.startswith(\"size\"):\n",
    "                coords = i.split(\" \")\n",
    "                width=float(coords[1])\n",
    "                height=width\n",
    "                \n",
    "            if i.startswith(\"drill\"):\n",
    "                coords = i.split(\" \")\n",
    "                holex=float(coords[1])\n",
    "                holey=holex          \n",
    "            \n",
    "            if i.startswith(\"layer\"):\n",
    "                pdpad = pd.DataFrame({\"padtype\":padtype,\"locx\":centrex,\"locy\":centrey,\"width\":width,\"height\":height,\"drillx\":holex,\"drilly\":holey}, index=[0]) \n",
    "                dfpd = dfpd.append(pdpad)\n",
    "                \n",
    "    if \"pad\" in line:\n",
    "        line = line.rstrip()\n",
    "        line = re.sub(\"\\)\", \"\", line)\n",
    "        parse = line.split(\"(\")\n",
    "               \n",
    "        for i in parse:\n",
    "            if i.startswith(\"pad\"):\n",
    "                coords = i.split(\" \")\n",
    "                if len(coords)>3:\n",
    "                    padtype = coords[3]\n",
    "                \n",
    "            if i.startswith(\"at\"):\n",
    "                coords = i.split(\" \")\n",
    "                cx=float(coords[1])\n",
    "                cy=float(coords[2])\n",
    "                \n",
    "                centrex=cx*math.cos(angle)-cy*math.sin(angle)+xx\n",
    "                centrey=cx*math.sin(angle)+cy*math.cos(angle)+yy\n",
    "                \n",
    "            if i.startswith(\"size\"):\n",
    "                coords = i.split(\" \")\n",
    "                width=float(coords[1])\n",
    "                height=float(coords[2])\n",
    "                \n",
    "            if i.startswith(\"drill\"):\n",
    "                coords = i.split(\" \")\n",
    "                holex=0\n",
    "                holey=0\n",
    "                if len(coords)==3:\n",
    "                    holex=float(coords[1])\n",
    "                    holey=holex\n",
    "                if len(coords)==5:\n",
    "                    holex=float(coords[2])\n",
    "                    holey=float(coords[3])\n",
    "                              \n",
    "            if i.startswith(\"layer\"):\n",
    "                pdpad = pd.DataFrame({\"padtype\":padtype,\"locx\":centrex,\"locy\":centrey,\"width\":width,\"height\":height,\"drillx\":holex,\"drilly\":holey}, index=[0]) \n",
    "                dfpd = dfpd.append(pdpad)\n",
    "  \n",
    "file1.close()"
   ]
  },
  {
   "cell_type": "code",
   "execution_count": 6,
   "metadata": {},
   "outputs": [
    {
     "name": "stdout",
     "output_type": "stream",
     "text": [
      "Board: 3568 x 2636 pixels\n"
     ]
    }
   ],
   "source": [
    "\n",
    "\n",
    "boardminx = min(min(df.startx),min(df.endx),min(dfpd.locx))-2\n",
    "boardmaxx = max(max(df.startx),max(df.endx),max(dfpd.locx))+2\n",
    "\n",
    "boardminy = min(min(df.starty),min(df.endy),min(dfpd.locy))-2\n",
    "boardmaxy = max(max(df.starty),max(df.endy),max(dfpd.locy))+2\n",
    "\n",
    "brd_width = int((boardmaxx-boardminx) * pxmm)\n",
    "brd_height = int((boardmaxy-boardminy) * pxmm) \n",
    "\n",
    "print(\"Board:\", brd_width,\"x\",brd_height, \"pixels\")"
   ]
  },
  {
   "cell_type": "code",
   "execution_count": 7,
   "metadata": {},
   "outputs": [],
   "source": [
    "df['dsx'] = ((df.startx-boardminx)*pxmm).astype('int32', copy=False)\n",
    "df['dex'] = ((df.endx-boardminx)*pxmm).astype('int32', copy=False)\n",
    "df['dsy'] = ((df.starty-boardminy)*pxmm).astype('int32', copy=False)\n",
    "df['dey'] = ((df.endy-boardminy)*pxmm).astype('int32', copy=False)\n",
    "df['dwi'] = (df.width*pxmm).astype('int32', copy=False)\n",
    "\n",
    "\n",
    "dfpd['locxx']=((boardmaxx- dfpd.locx)*pxmm).astype('int32',copy = False)\n",
    "dfpd['locx']=((dfpd.locx-boardminx)*pxmm).astype('int32',copy = False)\n",
    "dfpd['width']=(dfpd.width*pxmm/2).astype('int32',copy = False)\n",
    "dfpd['drillx']=(dfpd.drillx*pxmm/2).astype('int32',copy = False)\n",
    "dfpd['locy']=((dfpd.locy-boardminy)*pxmm).astype('int32',copy = False)\n",
    "dfpd['height']=(dfpd.height*pxmm/2).astype('int32',copy = False)\n",
    "dfpd['drilly']=(dfpd.drilly*pxmm/2).astype('int32',copy = False)\n"
   ]
  },
  {
   "cell_type": "code",
   "execution_count": 8,
   "metadata": {},
   "outputs": [],
   "source": [
    "blank_image = np.zeros((brd_height,brd_width,3), np.uint8)\n",
    "dfpd.to_pickle(\"./padvia.pkl\")"
   ]
  },
  {
   "cell_type": "code",
   "execution_count": 9,
   "metadata": {},
   "outputs": [],
   "source": [
    "for index, row in df[df['layer']=='B.Cu'].iterrows():\n",
    "    blank_image = cv2.line(blank_image, \n",
    "                           (row['dsx'],row['dsy']), \n",
    "                           (row['dex'],row['dey']), \n",
    "                           (255,255,255), \n",
    "                           row['dwi'])\n",
    "    \n",
    "for index, row in dfpd.iterrows():\n",
    "    if row['padtype']=='rect':\n",
    "        blank_image = cv2.rectangle(blank_image, \n",
    "                               (row['locx']-row['width'],row['locy']-row['height']), \n",
    "                               (row['locx']+row['width'],row['locy']+row['height']), \n",
    "                               (255,255,255),-1)\n",
    "\n",
    "    else:\n",
    "        blank_image = cv2.ellipse(blank_image, \n",
    "                               (row['locx'],row['locy']),\n",
    "                               (row['height'],row['width']),\n",
    "                                0,0,360,(255,255,255),-1)\n",
    "    \n",
    "\n",
    "cv2.imwrite('map.png',blank_image);"
   ]
  },
  {
   "cell_type": "code",
   "execution_count": 10,
   "metadata": {},
   "outputs": [
    {
     "data": {
      "image/png": "[encoded data removed]",
      "text/plain": [
       "<Figure size 1280x960 with 1 Axes>"
      ]
     },
     "metadata": {},
     "output_type": "display_data"
    }
   ],
   "source": [
    "figure(num=None, figsize=(16, 12), dpi=80, facecolor='w', edgecolor='k')\n",
    "plt.imshow(blank_image)\n",
    "plt.show()"
   ]
  },
  {
   "cell_type": "code",
   "execution_count": null,
   "metadata": {},
   "outputs": [],
   "source": []
  }
 ],
 "metadata": {
  "kernelspec": {
   "display_name": "Python 3",
   "language": "python",
   "name": "python3"
  },
  "language_info": {
   "codemirror_mode": {
    "name": "ipython",
    "version": 3
   },
   "file_extension": ".py",
   "mimetype": "text/x-python",
   "name": "python",
   "nbconvert_exporter": "python",
   "pygments_lexer": "ipython3",
   "version": "3.7.4"
  }
 },
 "nbformat": 4,
 "nbformat_minor": 4
}
