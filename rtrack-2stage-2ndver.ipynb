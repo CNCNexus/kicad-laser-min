{
 "cells": [
  {
   "cell_type": "code",
   "execution_count": 1,
   "metadata": {},
   "outputs": [],
   "source": [
    "import cv2\n",
    "from matplotlib import pyplot as plt\n",
    "import numpy as np\n",
    "from matplotlib.pyplot import figure\n",
    "import time\n",
    "import random\n",
    "import pandas as pd\n",
    "\n",
    "from skimage import measure"
   ]
  },
  {
   "cell_type": "code",
   "execution_count": 2,
   "metadata": {},
   "outputs": [],
   "source": [
    "show_image = False\n",
    "pxmm = 30 ## Used in kicad-parser (block 4)"
   ]
  },
  {
   "cell_type": "code",
   "execution_count": 3,
   "metadata": {},
   "outputs": [],
   "source": [
    "def randomcolor():\n",
    "    return (random.randrange(32,255,32),random.randrange(32,255,32),random.randrange(32,255,32))"
   ]
  },
  {
   "cell_type": "code",
   "execution_count": 4,
   "metadata": {},
   "outputs": [],
   "source": [
    "def plotLineHigh(x0,y0, x1,y1,colorline):\n",
    "    count = 0\n",
    "    linesize = 0\n",
    "    dx = x1 - x0\n",
    "    dy = y1 - y0\n",
    "    xi = 1\n",
    "    if dx < 0:\n",
    "        xi = -1\n",
    "        dx = -dx\n",
    "    \n",
    "    D = 2*dx - dy\n",
    "    x = x0\n",
    "    for y in range(y0,y1):\n",
    "        count = count + any(canvas[y,x]!=[0,0,0])*1\n",
    "        linesize = linesize + 1\n",
    "        if D > 0:\n",
    "            x = x + xi\n",
    "            D = D - 2*dy\n",
    "        D = D + 2*dx\n",
    "    return (count,linesize)\n",
    "\n",
    "def plotLineLow(x0,y0, x1,y1,colorline):\n",
    "    count = 0\n",
    "    linesize = 0\n",
    "    dx = x1 - x0\n",
    "    dy = y1 - y0\n",
    "    yi = 1\n",
    "    if dy < 0:\n",
    "        yi = -1\n",
    "        dy = -dy\n",
    "    \n",
    "    D = 2*dy - dx\n",
    "    y = y0\n",
    "\n",
    "    for x in range(x0,x1):\n",
    "        count = count + any(canvas[y,x]!=[0,0,0])*1\n",
    "        linesize = linesize + 1\n",
    "        if D > 0:\n",
    "            y = y + yi\n",
    "            D = D - 2*dx\n",
    "        D = D + 2*dy        \n",
    "    return (count,linesize)\n",
    "\n",
    "def reline(x0,y0, x1,y1,color):\n",
    "    if abs(y1 - y0) < abs(x1 - x0):\n",
    "        if x0 > x1:\n",
    "            (count,linesize) = plotLineLow(x1, y1, x0, y0,color)\n",
    "        else:\n",
    "            (count,linesize) = plotLineLow(x0, y0, x1, y1,color)        \n",
    "    else:\n",
    "        if y0 > y1:\n",
    "            (count,linesize) = plotLineHigh(x1, y1, x0, y0,color)\n",
    "        else:\n",
    "            (count,linesize) = plotLineHigh(x0, y0, x1, y1,color)\n",
    "    \n",
    "    return (count,max(1,linesize))\n"
   ]
  },
  {
   "cell_type": "code",
   "execution_count": 6,
   "metadata": {},
   "outputs": [],
   "source": [
    "im2 = cv2.imread('aout.png')\n",
    "im = cv2.flip(im2,1)\n",
    "imgray = cv2.cvtColor(im,cv2.COLOR_BGR2GRAY)\n",
    "ret,thresh = cv2.threshold(imgray,127,255,0)\n",
    "contours, hierarchy = cv2.findContours(thresh,cv2.RETR_TREE,cv2.CHAIN_APPROX_SIMPLE)"
   ]
  },
  {
   "cell_type": "code",
   "execution_count": 7,
   "metadata": {},
   "outputs": [],
   "source": [
    "gcode = []\n",
    "def g_print(gout):\n",
    "    global gcode \n",
    "    \n",
    "    gcode.append(gout)\n",
    "    gcode.append(\"\\n\")\n",
    "\n",
    "def g_write_to_file(filename):\n",
    "    global gcode \n",
    "    \n",
    "    f = open(filename,\"wt\")\n",
    "    for stro in gcode:\n",
    "        f.write(stro)\n",
    "        \n",
    "    f.close()\n",
    "    \n",
    "blockcounter =0"
   ]
  },
  {
   "cell_type": "code",
   "execution_count": 8,
   "metadata": {},
   "outputs": [],
   "source": [
    "g_print(\"G21\") # Metric\n",
    "g_print(\"G90\") # Absolute\n",
    "g_print(\"G94\") # Feed per minute"
   ]
  },
  {
   "cell_type": "code",
   "execution_count": 9,
   "metadata": {},
   "outputs": [],
   "source": [
    "canvas = np.zeros([2636, 3568,3])\n",
    "#canvas = cv2.drawContours(canvas, contours, -1, (255,0,0), 1)\n",
    "cval = []\n",
    "\n",
    "cv2.circle(canvas,(30,30),15,(255,0,0),-1)\n",
    "cv2.circle(canvas,(60,30),15,(0,255,0),-1)\n",
    "cv2.circle(canvas,(90,30),15,(0,0,255),-1)\n",
    "cv2.circle(canvas,(120,30),15,(0,255,255),-1)\n",
    "cv2.circle(canvas,(150,30),15,(255,255,0),-1)\n",
    "cv2.circle(canvas,(180,30),15,(255,0,255),-1)\n",
    "cv2.circle(canvas,(210,30),15,(255,255,255),-1)\n",
    "\n",
    "contours.reverse()\n",
    "for cc in contours:\n",
    "    \n",
    "    approx = cv2.approxPolyDP(cc, 3, True)\n",
    "    [x1,y1]=approx[0][0]\n",
    "    contourcolor=randomcolor()\n",
    "    \n",
    "    g_print(\"G0 Z2\") ## dont need this in laser\n",
    "    g_print(\"(Block-name: block \"+str(blockcounter)+\")\\n(Block-expand: 0)\\n(Block-enable: 1)\")\n",
    "    blockcounter = blockcounter + 1\n",
    "    g_print(\"G01 F120\") ## Feedrate 120 mm/min\n",
    "    g_print(\"G0 X\"+str(x1/pxmm)+\" Y\"+str(y1/pxmm))\n",
    "    g_print(\"M04 S1000\")\n",
    "    \n",
    "    \n",
    "    for a in approx:\n",
    "        [x,y]=a[0]\n",
    "        g_print(\"G1 X\"+str(x/pxmm)+\" Y\"+str(y/pxmm))\n",
    "    \n",
    "    g_print(\"M05\\n \")\n"
   ]
  },
  {
   "cell_type": "code",
   "execution_count": 10,
   "metadata": {},
   "outputs": [],
   "source": [
    "dfpd = pd.read_pickle(\"./padvia.pkl\")\n",
    "for index, row in dfpd.iterrows():\n",
    "    ##The Hole\n",
    "    \n",
    "    x1 = (row['locxx']+row['drillx'])/pxmm\n",
    "    x2 = row['locxx']/pxmm\n",
    "    yy = (row['locy']/pxmm)\n",
    "    r = (row['drillx']/pxmm)\n",
    "    \n",
    "    ## Goto rightmost\n",
    "    g_print(\"(Block-name: blockvia \"+str(blockcounter)+\")\\n(Block-expand: 0)\\n(Block-enable: 1)\")\n",
    "    blockcounter = blockcounter + 1\n",
    "    g_print(\"G01 F120\") ## Feedrate 120 mm/min\n",
    "    g_print(\"G0 X\"+str(x1)+\" Y\"+str(yy))\n",
    "    g_print(\"M04 S1000\")\n",
    "    \n",
    "    \n",
    "    ## Draw circle\n",
    "    g_print(\"G02 X\"+str(x1)+\" I-\"+str(r)+\" F120\")\n",
    "\n",
    "g_print(\"M05\")\n",
    "g_print(\"G0 Z2\")\n",
    "g_print(\"G0 X0.5 Y0.5\")"
   ]
  },
  {
   "cell_type": "code",
   "execution_count": 11,
   "metadata": {},
   "outputs": [],
   "source": [
    "g_write_to_file(\"kic.gcode\")"
   ]
  },
  {
   "cell_type": "code",
   "execution_count": null,
   "metadata": {},
   "outputs": [],
   "source": []
  }
 ],
 "metadata": {
  "kernelspec": {
   "display_name": "Python 3",
   "language": "python",
   "name": "python3"
  },
  "language_info": {
   "codemirror_mode": {
    "name": "ipython",
    "version": 3
   },
   "file_extension": ".py",
   "mimetype": "text/x-python",
   "name": "python",
   "nbconvert_exporter": "python",
   "pygments_lexer": "ipython3",
   "version": "3.7.4"
  }
 },
 "nbformat": 4,
 "nbformat_minor": 4
}
